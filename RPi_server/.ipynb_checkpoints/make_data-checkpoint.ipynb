{
 "metadata": {
  "name": "",
  "signature": "sha256:d45ee254dfcea1119e0e74cac53dcefbbf07efb3af70bf506c991028a84e023c"
 },
 "nbformat": 3,
 "nbformat_minor": 0,
 "worksheets": [
  {
   "cells": [
    {
     "cell_type": "code",
     "collapsed": false,
     "input": [
      "import time\n",
      "import random"
     ],
     "language": "python",
     "metadata": {},
     "outputs": [],
     "prompt_number": 1
    },
    {
     "cell_type": "code",
     "collapsed": false,
     "input": [
      "random.seed()"
     ],
     "language": "python",
     "metadata": {},
     "outputs": [],
     "prompt_number": 2
    },
    {
     "cell_type": "code",
     "collapsed": false,
     "input": [
      "with open('sensor_1.dat', 'w') as f:\n",
      "    for i in range(103680):\n",
      "        t = time.time() - (31104000 - i*300)\n",
      "        r = random.random()\n",
      "        f.write(str(t) + '\\t' + str(r) + '\\n')"
     ],
     "language": "python",
     "metadata": {},
     "outputs": [],
     "prompt_number": 3
    },
    {
     "cell_type": "code",
     "collapsed": false,
     "input": [
      "time.localtime(t)"
     ],
     "language": "python",
     "metadata": {},
     "outputs": [
      {
       "metadata": {},
       "output_type": "pyout",
       "prompt_number": 16,
       "text": [
        "time.struct_time(tm_year=2015, tm_mon=5, tm_mday=11, tm_hour=17, tm_min=36, tm_sec=10, tm_wday=0, tm_yday=131, tm_isdst=1)"
       ]
      }
     ],
     "prompt_number": 16
    },
    {
     "cell_type": "code",
     "collapsed": false,
     "input": [
      "time.localtime()"
     ],
     "language": "python",
     "metadata": {},
     "outputs": [
      {
       "metadata": {},
       "output_type": "pyout",
       "prompt_number": 17,
       "text": [
        "time.struct_time(tm_year=2015, tm_mon=5, tm_mday=11, tm_hour=19, tm_min=23, tm_sec=18, tm_wday=0, tm_yday=131, tm_isdst=1)"
       ]
      }
     ],
     "prompt_number": 17
    },
    {
     "cell_type": "code",
     "collapsed": false,
     "input": [],
     "language": "python",
     "metadata": {},
     "outputs": []
    }
   ],
   "metadata": {}
  }
 ]
}