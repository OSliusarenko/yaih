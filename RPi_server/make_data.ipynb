{
 "metadata": {
  "name": "",
  "signature": "sha256:e5c15e5694f35a8ea6e79d8c7b44907dc992f4105853574ababb967b0dbb5ee7"
 },
 "nbformat": 3,
 "nbformat_minor": 0,
 "worksheets": [
  {
   "cells": [
    {
     "cell_type": "code",
     "collapsed": false,
     "input": [
      "import time\n",
      "import random"
     ],
     "language": "python",
     "metadata": {},
     "outputs": [],
     "prompt_number": 1
    },
    {
     "cell_type": "code",
     "collapsed": false,
     "input": [
      "random.seed()"
     ],
     "language": "python",
     "metadata": {},
     "outputs": [],
     "prompt_number": 2
    },
    {
     "cell_type": "code",
     "collapsed": false,
     "input": [
      "with open('sensor_2.dat', 'w') as f:\n",
      "    for i in range(103680):\n",
      "        t = time.time() - (31104000 - i*300)\n",
      "        r = random.random()\n",
      "        f.write(str(t) + '\\t' + str(r) + '\\n')"
     ],
     "language": "python",
     "metadata": {},
     "outputs": [],
     "prompt_number": 3
    },
    {
     "cell_type": "code",
     "collapsed": false,
     "input": [
      "time.localtime(t)"
     ],
     "language": "python",
     "metadata": {},
     "outputs": [
      {
       "metadata": {},
       "output_type": "pyout",
       "prompt_number": 16,
       "text": [
        "time.struct_time(tm_year=2015, tm_mon=5, tm_mday=11, tm_hour=17, tm_min=36, tm_sec=10, tm_wday=0, tm_yday=131, tm_isdst=1)"
       ]
      }
     ],
     "prompt_number": 16
    },
    {
     "cell_type": "code",
     "collapsed": false,
     "input": [
      "time.localtime()"
     ],
     "language": "python",
     "metadata": {},
     "outputs": [
      {
       "metadata": {},
       "output_type": "pyout",
       "prompt_number": 17,
       "text": [
        "time.struct_time(tm_year=2015, tm_mon=5, tm_mday=11, tm_hour=19, tm_min=23, tm_sec=18, tm_wday=0, tm_yday=131, tm_isdst=1)"
       ]
      }
     ],
     "prompt_number": 17
    },
    {
     "cell_type": "code",
     "collapsed": false,
     "input": [],
     "language": "python",
     "metadata": {},
     "outputs": []
    }
   ],
   "metadata": {}
  }
 ]
}